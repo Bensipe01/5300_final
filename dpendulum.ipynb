{
 "cells": [
  {
   "cell_type": "code",
   "execution_count": null,
   "metadata": {},
   "outputs": [],
   "source": [
    "import matplotlib.pyplot as plt\n",
    "import numpy as np\n",
    "from scipy.integrate import odeint, solve_ivp"
   ]
  },
  {
   "cell_type": "code",
   "execution_count": null,
   "metadata": {},
   "outputs": [],
   "source": [
    "class doublependulum():\n",
    "    def __init__(self,L1,L2,m1,m2,g):\n",
    "        \"\"\"\n",
    "        L1 = length of pendulum 1\n",
    "        L2 = length of pendulum 2\n",
    "        m1 = mass of pendulum 1\n",
    "        m2 = mass of pendulum 2\n",
    "        g = gravitational acceleration\n",
    "        \"\"\"\n",
    "        self.L1=L1\n",
    "        self.L2=L2\n",
    "        self.m1 = m1\n",
    "        self.m2 = m2\n",
    "        self.g = g\n",
    "        \n",
    "    def dy_dt(self,t,y):\n",
    "        \"\"\"\n",
    "        \n",
    "        \"\"\"\n",
    "        p1,p1dot,p2,p2dot = y\n",
    "        s,c = np.sin(p1-p2), np.cos(p1-p2)\n",
    "        \n",
    "        denom = self.m1+self.m2*s**2\n",
    "        \n",
    "        p1ddot=-((self.g*self.m1*np.sin(p1)+self.g*self.m2*np.sin(p1)+self.L2*self.m2*p2dot**2*s+self.L1*self.m2*p1dot**2\\\n",
    "                  *c*s-self.g*self.m2*c*np.sin(p2))/(self.L1*denom))\n",
    "        \n",
    "        p2ddot=(self.g*self.m1*c*np.sin(p1)+self.g*self.m2*c*np.sin(p1)+self.L1*self.m1*p1dot**2*s+self.L1*self.m2*p1dot**2*s\\\n",
    "                  +self.L2*self.m2*p2dot**2*c*s-self.g*self.m1*np.sin(p2)-self.g*self.m2*np.sin(p2)\\\n",
    "                  /(self.L2*denom)\n",
    "        \n",
    "        return y[1],p1ddot,y[2],p2ddot\n",
    "                                                                                            \n",
    "    def solve_ode(self, t_pts, p1_0, p1dot_0, p2_0, p2dot_0, \n",
    "                  abserr=1.0e-8, relerr=1.0e-6):\n",
    "        \"\"\"\n",
    "        Solve the ODE given initial conditions.\n",
    "        For now use odeint, but we have the option to switch.\n",
    "        Specify smaller abserr and relerr to get more precision.\n",
    "        \"\"\"\n",
    "        y = [p1_0, p1dot_0, p2_0, p2dot_0] \n",
    "        solution = solve_ivp(self.dy_dt, (t_pts[0], t_pts[-1]), \n",
    "                             y, t_eval=t_pts, \n",
    "                             atol=abserr, rtol=relerr)\n",
    "        p1, p1dot, p2, p2dot = solution.y\n",
    "\n",
    "        return p1, p1dot, p2, p2dot\n",
    "        "
   ]
  },
  {
   "cell_type": "code",
   "execution_count": null,
   "metadata": {},
   "outputs": [],
   "source": [
    "L1=1.0\n",
    "L2=1.0\n",
    "m1=1.0\n",
    "m2=1.0\n",
    "g=9.8\n",
    "pend1 = doublependulum(L1,L2,m1,m2,g)\n",
    "\n",
    "t_start = 0.\n",
    "t_end = 20.\n",
    "delta_t = 0.01\n",
    "\n",
    "t_pts = np.arange(t_start, t_end+delta_t, delta_t)  \n",
    "\n",
    "\n",
    "p1_0 = np.pi/2\n",
    "p1dot_0 = 1\n",
    "p2_0 = np.pi/2\n",
    "p2dot_0 = 1\n",
    "phi_1, phi_dot_1, phi_2, phi_dot2 = pend1.solve_ode(t_pts,p1_0,p1dot_0,p2_0,p2dot_0)"
   ]
  },
  {
   "cell_type": "code",
   "execution_count": null,
   "metadata": {},
   "outputs": [],
   "source": [
    "def plot_y_vs_x(x, y, axis_labels=None, label=None, title=None, \n",
    "                color=None, linestyle=None, semilogy=False, loglog=False,\n",
    "                points=False, ax=None):\n",
    "    \"\"\"\n",
    "    Generic plotting function: return a figure axis with a plot of y vs. x,\n",
    "    with line color and style, title, axis labels, and line label\n",
    "    \"\"\"\n",
    "    if ax is None:        # if the axis object doesn't exist, make one\n",
    "        ax = plt.gca()\n",
    "\n",
    "    if (semilogy):\n",
    "        line, = ax.semilogy(x, y, label=label, \n",
    "                            color=color, linestyle=linestyle)\n",
    "    elif (loglog):\n",
    "        line, = ax.loglog(x, y, label=label, \n",
    "                          color=color, linestyle=linestyle)\n",
    "    else:\n",
    "        if not points:\n",
    "            line, = ax.plot(x, y, label=label, \n",
    "                            color=color, linestyle=linestyle)\n",
    "        else:\n",
    "            line = ax.scatter(x, y, label=label,\n",
    "                              color=color, marker='^')\n",
    "\n",
    "    if label is not None:    # if a label if passed, show the legend\n",
    "        ax.legend()\n",
    "    if title is not None:    # set a title if one if passed\n",
    "        ax.set_title(title)\n",
    "    if axis_labels is not None:  # set x-axis and y-axis labels if passed  \n",
    "        ax.set_xlabel(axis_labels[0])\n",
    "        ax.set_ylabel(axis_labels[1])\n",
    "\n",
    "    return ax, line"
   ]
  },
  {
   "cell_type": "code",
   "execution_count": null,
   "metadata": {},
   "outputs": [],
   "source": [
    "start, stop = start_stop_indices(t_pts, 0., 10.)    \n",
    "plot_y_vs_x(t_pts[start : stop], phi_1[start : stop], \n",
    "            axis_labels=phi_vs_time_labels, \n",
    "            color='blue',\n",
    "            label=None, \n",
    "            ax=ax_1a) "
   ]
  },
  {
   "cell_type": "code",
   "execution_count": null,
   "metadata": {},
   "outputs": [],
   "source": []
  },
  {
   "cell_type": "code",
   "execution_count": null,
   "metadata": {},
   "outputs": [],
   "source": []
  }
 ],
 "metadata": {
  "kernelspec": {
   "display_name": "Python 3",
   "language": "python",
   "name": "python3"
  },
  "language_info": {
   "codemirror_mode": {
    "name": "ipython",
    "version": 3
   },
   "file_extension": ".py",
   "mimetype": "text/x-python",
   "name": "python",
   "nbconvert_exporter": "python",
   "pygments_lexer": "ipython3",
   "version": "3.7.0"
  }
 },
 "nbformat": 4,
 "nbformat_minor": 2
}
